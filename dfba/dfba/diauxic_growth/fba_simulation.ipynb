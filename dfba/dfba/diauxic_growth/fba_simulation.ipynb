{
 "cells": [
  {
   "cell_type": "markdown",
   "metadata": {
    "collapsed": true
   },
   "source": [
    "## FBA simulation\n",
    "Simulating the FBA part of the diauxic growth model with `cobrapy` to check that the FBA part is working.\n",
    "This requires\n",
    "* `cobrapy >= 0.6.0a3`"
   ]
  },
  {
   "cell_type": "code",
   "execution_count": 1,
   "metadata": {
    "collapsed": false
   },
   "outputs": [
    {
     "name": "stderr",
     "output_type": "stream",
     "text": [
      "/usr/local/lib/python2.7/dist-packages/optlang/gurobi_interface.py:26: UserWarning: Be careful! The GUROBI interface is still under construction ...\n",
      "  warn(\"Be careful! The GUROBI interface is still under construction ...\")\n"
     ]
    }
   ],
   "source": [
    "from __future__ import print_function, absolute_import\n",
    "\n",
    "import pandas as pd\n",
    "import cobra\n",
    "from matplotlib import pyplot as plt\n",
    "\n",
    "from sbmlutils import fbc\n",
    "from sbmlutils.dfba.analysis import set_matplotlib_parameters\n",
    "from sbmlutils.dfba.diauxic_growth import model_factory\n",
    "\n",
    "set_matplotlib_parameters()"
   ]
  },
  {
   "cell_type": "code",
   "execution_count": 2,
   "metadata": {
    "collapsed": false
   },
   "outputs": [
    {
     "name": "stdout",
     "output_type": "stream",
     "text": [
      "./results/v9/diauxic_fba.xml\n"
     ]
    },
    {
     "data": {
      "text/plain": [
       "(<Model diauxic_fba at 0x7f065b016b10>,\n",
       " {'SBML errors': [], 'other': [], 'validator': [], 'warnings': []})"
      ]
     },
     "execution_count": 2,
     "metadata": {},
     "output_type": "execute_result"
    }
   ],
   "source": [
    "# load model\n",
    "sbml_path = './results/v{}/diauxic_fba.xml'.format(model_factory.version)\n",
    "print(sbml_path)\n",
    "mfba = cobra.io.read_sbml_model(sbml_path)\n",
    "cobra.io.sbml3.validate_sbml_model(sbml_path)"
   ]
  },
  {
   "cell_type": "code",
   "execution_count": 3,
   "metadata": {
    "collapsed": false
   },
   "outputs": [
    {
     "name": "stdout",
     "output_type": "stream",
     "text": [
      "            lb    ub reversibility boundary objective_coefficient  \\\n",
      "v1           0  1000         False    False                     1   \n",
      "v2           0  1000         False    False                     1   \n",
      "v3           0  1000         False    False                     1   \n",
      "v4           0  1000         False    False                     1   \n",
      "EX_Ac    -1000  1000          True     True                     0   \n",
      "EX_Glcxt -1000     0         False     True                     0   \n",
      "EX_O2    -1000     0         False     True                     0   \n",
      "EX_X         0  1000         False     True                     0   \n",
      "\n",
      "               forward_variable                       reverse_variable  \n",
      "v1          0.0 <= v1 <= 1000.0             0 <= v1_reverse_6654c <= 0  \n",
      "v2          0.0 <= v2 <= 1000.0             0 <= v2_reverse_1b267 <= 0  \n",
      "v3          0.0 <= v3 <= 1000.0             0 <= v3_reverse_43a03 <= 0  \n",
      "v4          0.0 <= v4 <= 1000.0             0 <= v4_reverse_5ed3a <= 0  \n",
      "EX_Ac      0 <= EX_Ac <= 1000.0     0 <= EX_Ac_reverse_3765e <= 1000.0  \n",
      "EX_Glcxt   0 <= EX_Glcxt <= 0.0  0 <= EX_Glcxt_reverse_34a63 <= 1000.0  \n",
      "EX_O2         0 <= EX_O2 <= 0.0     0 <= EX_O2_reverse_23804 <= 1000.0  \n",
      "EX_X      0.0 <= EX_X <= 1000.0           0 <= EX_X_reverse_ff29b <= 0  \n"
     ]
    }
   ],
   "source": [
    "# objective function & boundaries\n",
    "# pprint(mfba.objective)\n",
    "df = fbc.cobra_reaction_info(mfba)\n",
    "print(df)"
   ]
  },
  {
   "cell_type": "code",
   "execution_count": 4,
   "metadata": {
    "collapsed": false
   },
   "outputs": [
    {
     "name": "stdout",
     "output_type": "stream",
     "text": [
      "IN FLUXES                      OUT FLUXES                  OBJECTIVES\n",
      "-----------------------------  --------------------------  ------------\n",
      "id       Flux  Range           id      Flux  Range         v1   0\n",
      "-----  ------  --------------  ----  ------  ------------  v2  77.4\n",
      "Glcxt   1e+03  [1e+03, 1e+03]  Ac     169    [169, 169]    v3   0\n",
      "O2      1e+03  [1e+03, 1e+03]  X       91.3  [91.3, 91.3]  v4  13.9\n"
     ]
    }
   ],
   "source": [
    "# optimize\n",
    "s = mfba.optimize(objective_sense=\"maximize\")\n",
    "mfba.summary(fva=True)"
   ]
  },
  {
   "cell_type": "code",
   "execution_count": 5,
   "metadata": {
    "collapsed": false
   },
   "outputs": [
    {
     "name": "stdout",
     "output_type": "stream",
     "text": [
      "IN FLUXES     OUT FLUXES    OBJECTIVES\n",
      "------------  ------------  ------------\n",
      "Glcxt  1e+03  Ac  169       v1   0\n",
      "O2     1e+03  X    91.3     v2  77.4\n",
      "                            v3   0\n",
      "                            v4  13.9\n"
     ]
    }
   ],
   "source": [
    "s = mfba.optimize(objective_sense=\"maximize\")\n",
    "cobra.flux_analysis.pfba(mfba)\n",
    "mfba.summary()"
   ]
  },
  {
   "cell_type": "code",
   "execution_count": 6,
   "metadata": {
    "collapsed": false
   },
   "outputs": [
    {
     "name": "stdout",
     "output_type": "stream",
     "text": [
      "IN FLUXES                      OUT FLUXES                  OBJECTIVES\n",
      "-----------------------------  --------------------------  ------------\n",
      "id       Flux  Range           id      Flux  Range         v1   0\n",
      "-----  ------  --------------  ----  ------  ------------  v2  77.4\n",
      "Glcxt   1e+03  [1e+03, 1e+03]  Ac     169    [169, 169]    v3   0\n",
      "O2      1e+03  [1e+03, 1e+03]  X       91.3  [91.3, 91.3]  v4  13.9\n",
      "optimal\n",
      "Ac <=> \n",
      "PRODUCING REACTIONS -- acetate (Ac)\n",
      "-----------------------------------\n",
      "%       FLUX  RXN ID    REACTION\n",
      "----  ------  --------  ----------------------------\n",
      "100%     169  v4        19.23 Glcxt --> 12.12 Ac + X\n",
      "\n",
      "CONSUMING REACTIONS -- acetate (Ac)\n",
      "-----------------------------------\n",
      "%       FLUX  RXN ID    REACTION\n",
      "----  ------  --------  ----------------------------\n",
      "100%     169  EX_Ac     Ac <=>\n",
      "None\n"
     ]
    }
   ],
   "source": [
    "# summary of solution\n",
    "mfba.summary(fva=True)\n",
    "print(s.status)\n",
    "print(mfba.reactions.EX_Ac.reaction)\n",
    "print(mfba.metabolites.Ac.summary())"
   ]
  },
  {
   "cell_type": "code",
   "execution_count": 7,
   "metadata": {
    "collapsed": false
   },
   "outputs": [
    {
     "data": {
      "text/html": [
       "<div>\n",
       "<table border=\"1\" class=\"dataframe\">\n",
       "  <thead>\n",
       "    <tr style=\"text-align: right;\">\n",
       "      <th></th>\n",
       "      <th>maximum</th>\n",
       "      <th>minimum</th>\n",
       "    </tr>\n",
       "  </thead>\n",
       "  <tbody>\n",
       "    <tr>\n",
       "      <th>EX_Ac</th>\n",
       "      <td>168.78619</td>\n",
       "      <td>168.78619</td>\n",
       "    </tr>\n",
       "    <tr>\n",
       "      <th>EX_Glcxt</th>\n",
       "      <td>-1000.00000</td>\n",
       "      <td>-1000.00000</td>\n",
       "    </tr>\n",
       "    <tr>\n",
       "      <th>EX_O2</th>\n",
       "      <td>-1000.00000</td>\n",
       "      <td>-1000.00000</td>\n",
       "    </tr>\n",
       "    <tr>\n",
       "      <th>EX_X</th>\n",
       "      <td>91.32563</td>\n",
       "      <td>91.32563</td>\n",
       "    </tr>\n",
       "    <tr>\n",
       "      <th>v1</th>\n",
       "      <td>-0.00000</td>\n",
       "      <td>0.00000</td>\n",
       "    </tr>\n",
       "    <tr>\n",
       "      <th>v2</th>\n",
       "      <td>77.39938</td>\n",
       "      <td>77.39938</td>\n",
       "    </tr>\n",
       "    <tr>\n",
       "      <th>v3</th>\n",
       "      <td>-0.00000</td>\n",
       "      <td>0.00000</td>\n",
       "    </tr>\n",
       "    <tr>\n",
       "      <th>v4</th>\n",
       "      <td>13.92625</td>\n",
       "      <td>13.92625</td>\n",
       "    </tr>\n",
       "  </tbody>\n",
       "</table>\n",
       "</div>"
      ],
      "text/plain": [
       "             maximum     minimum\n",
       "EX_Ac      168.78619   168.78619\n",
       "EX_Glcxt -1000.00000 -1000.00000\n",
       "EX_O2    -1000.00000 -1000.00000\n",
       "EX_X        91.32563    91.32563\n",
       "v1          -0.00000     0.00000\n",
       "v2          77.39938    77.39938\n",
       "v3          -0.00000     0.00000\n",
       "v4          13.92625    13.92625"
      ]
     },
     "execution_count": 7,
     "metadata": {},
     "output_type": "execute_result"
    }
   ],
   "source": [
    "# FVA\n",
    "# running flux variability analysis with the model\n",
    "fva_result = cobra.flux_analysis.flux_variability_analysis(mfba, mfba.reactions)\n",
    "pd.DataFrame.from_dict(fva_result).round(5)"
   ]
  },
  {
   "cell_type": "code",
   "execution_count": 8,
   "metadata": {
    "collapsed": false
   },
   "outputs": [
    {
     "name": "stdout",
     "output_type": "stream",
     "text": [
      "IN FLUXES     OUT FLUXES    OBJECTIVES\n",
      "------------  ------------  ------------\n",
      "Glcxt  1e+03  Ac  169       v1   0\n",
      "O2     1e+03  X    91.3     v2  77.4\n",
      "                            v3   0\n",
      "                            v4  13.9\n"
     ]
    }
   ],
   "source": [
    "s = mfba.optimize(objective_sense=\"maximize\")\n",
    "FBA_sol = cobra.flux_analysis.pfba(mfba)\n",
    "mfba.summary()"
   ]
  },
  {
   "cell_type": "markdown",
   "metadata": {
    "collapsed": true
   },
   "source": [
    "## Change the bounds"
   ]
  },
  {
   "cell_type": "code",
   "execution_count": 9,
   "metadata": {
    "collapsed": false
   },
   "outputs": [
    {
     "name": "stdout",
     "output_type": "stream",
     "text": [
      "           v1         v2   v3         v4        EX_Ac     EX_Glcxt  \\\n",
      "0    0.000000  77.399381  0.0  13.926254   168.786194 -1000.000000   \n",
      "1    0.000000  77.399381  0.0  11.189302   135.614341  -947.368421   \n",
      "2    0.000000  77.399381  0.0   8.452350   102.442488  -894.736842   \n",
      "3    0.000000  77.399381  0.0   5.715399    69.270635  -842.105263   \n",
      "4    0.000000  77.399381  0.0   2.978447    36.098781  -789.473684   \n",
      "5    0.000000  77.399381  0.0   0.241496     2.926928  -736.842105   \n",
      "6    1.872546  72.326694  0.0   0.000000   -73.834491  -684.210526   \n",
      "7    3.926306  66.763102  0.0   0.000000  -154.814256  -631.578947   \n",
      "8    5.980066  61.199510  0.0   0.000000  -235.794020  -578.947368   \n",
      "9    8.033827  55.635919  0.0   0.000000  -316.773784  -526.315789   \n",
      "10  10.087587  50.072327  0.0   0.000000  -397.753549  -473.684211   \n",
      "11  12.141347  44.508735  0.0   0.000000  -478.733313  -421.052632   \n",
      "12  14.195107  38.945143  0.0   0.000000  -559.713078  -368.421053   \n",
      "13  16.248867  33.381551  0.0   0.000000  -640.692842  -315.789474   \n",
      "14  18.302628  27.817959  0.0   0.000000  -721.672606  -263.157895   \n",
      "15  20.356388  22.254367  0.0   0.000000  -802.652371  -210.526316   \n",
      "16  22.410148  16.690776  0.0   0.000000  -883.632135  -157.894737   \n",
      "17  24.463908  11.127184  0.0   0.000000  -964.611900  -105.263158   \n",
      "18  25.361400   5.563592  0.0   0.000000 -1000.000000   -52.631579   \n",
      "19  25.361400   0.000000  0.0   0.000000 -1000.000000     0.000000   \n",
      "\n",
      "          EX_O2       EX_X  \n",
      "0  -1000.000000  91.325634  \n",
      "1  -1000.000000  88.588683  \n",
      "2  -1000.000000  85.851731  \n",
      "3  -1000.000000  83.114780  \n",
      "4  -1000.000000  80.377828  \n",
      "5  -1000.000000  77.640877  \n",
      "6  -1000.000000  74.199240  \n",
      "7  -1000.000000  70.689409  \n",
      "8  -1000.000000  67.179577  \n",
      "9  -1000.000000  63.669745  \n",
      "10 -1000.000000  60.159914  \n",
      "11 -1000.000000  56.650082  \n",
      "12 -1000.000000  53.140250  \n",
      "13 -1000.000000  49.630419  \n",
      "14 -1000.000000  46.120587  \n",
      "15 -1000.000000  42.610755  \n",
      "16 -1000.000000  39.100924  \n",
      "17 -1000.000000  35.591092  \n",
      "18  -959.530605  30.924992  \n",
      "19  -887.648998  25.361400  \n"
     ]
    }
   ],
   "source": [
    "import numpy as np\n",
    "import pandas as pd\n",
    "glc_bounds = np.linspace(-1000, 0, 20)\n",
    "results = []\n",
    "for lb_glc in glc_bounds:\n",
    "    mfba.reactions.EX_Glcxt.lower_bound = lb_glc\n",
    "    s = mfba.optimize(objective_sense=\"maximize\")\n",
    "    fluxes = s.fluxes\n",
    "    results.append(fluxes)\n",
    "df = pd.DataFrame(results)\n",
    "print(df)"
   ]
  },
  {
   "cell_type": "code",
   "execution_count": 10,
   "metadata": {
    "collapsed": false
   },
   "outputs": [
    {
     "data": {
      "image/png": "[encoded data removed]",
      "text/plain": [
       "<matplotlib.figure.Figure at 0x7f065ac25350>"
      ]
     },
     "metadata": {},
     "output_type": "display_data"
    }
   ],
   "source": [
    "fig, (ax1, ax2) = plt.subplots(nrows=1, ncols=2, figsize=(14, 7))\n",
    "\n",
    "for vid in ['v1', 'v2', 'v3', 'v4']:\n",
    "    ax1.plot(df.EX_Glcxt, df[vid], marker='s', alpha=0.8, label=vid)\n",
    "\n",
    "ax2.plot([np.min(glc_bounds), np.max(glc_bounds)], [0, 0], color='k', linestyle='-', linewidth=1)\n",
    "for vid in ['EX_Ac', 'EX_O2', 'EX_Glcxt', 'EX_X']:\n",
    "    ax2.plot(df.EX_Glcxt, df[vid], marker='s', alpha=0.8, label=vid)\n",
    "ax2.set_ylim(-1000, 1000)\n",
    "    \n",
    "for ax in [ax1, ax2]:\n",
    "    ax.set_xlabel('Glc species bound')\n",
    "    ax.legend()\n",
    "\n",
    "plt.show()"
   ]
  },
  {
   "cell_type": "code",
   "execution_count": null,
   "metadata": {
    "collapsed": true
   },
   "outputs": [],
   "source": []
  }
 ],
 "metadata": {
  "kernelspec": {
   "display_name": "Python 2",
   "language": "python",
   "name": "python2"
  },
  "language_info": {
   "codemirror_mode": {
    "name": "ipython",
    "version": 2
   },
   "file_extension": ".py",
   "mimetype": "text/x-python",
   "name": "python",
   "nbconvert_exporter": "python",
   "pygments_lexer": "ipython2",
   "version": "2.7.12"
  }
 },
 "nbformat": 4,
 "nbformat_minor": 0
}
